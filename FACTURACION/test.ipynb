{
 "cells": [
  {
   "cell_type": "code",
   "execution_count": 4,
   "metadata": {},
   "outputs": [
    {
     "name": "stdout",
     "output_type": "stream",
     "text": [
      "Carpetas disponibles:\n",
      "(\\HasNoChildren) \"/\" Archivo\n",
      "(\\Marked \\HasNoChildren) \"/\" Inbox\n",
      "(\\HasNoChildren) \"/\" Outbox\n",
      "(\\HasNoChildren \\Drafts) \"/\" Drafts\n",
      "(\\HasNoChildren \\Junk) \"/\" Junk\n",
      "(\\HasNoChildren \\Trash) \"/\" Deleted\n",
      "(\\HasNoChildren \\Sent) \"/\" Sent\n",
      "(\\HasNoChildren) \"/\" Notes\n",
      "OK\n"
     ]
    },
    {
     "data": {
      "text/plain": [
       "('BYE', [b'Microsoft Exchange Server IMAP4 server signing off.'])"
      ]
     },
     "execution_count": 4,
     "metadata": {},
     "output_type": "execute_result"
    }
   ],
   "source": [
    "import imaplib\n",
    "\n",
    "# Función para listar las carpetas disponibles\n",
    "def listar_carpetas(imap):\n",
    "    status, folders = imap.list()\n",
    "    if status == \"OK\":\n",
    "        print(\"Carpetas disponibles:\")\n",
    "        for folder in folders:\n",
    "            print(folder.decode())\n",
    "    else:\n",
    "        print(\"Error al listar carpetas:\", status)\n",
    "\n",
    "# Función para seleccionar la carpeta\n",
    "def seleccionar_carpeta(imap, folder_name):\n",
    "    status, response = imap.select(folder_name)\n",
    "    if status != \"OK\":\n",
    "        print(f\"Error al seleccionar la carpeta '{folder_name}': {response}\")\n",
    "        listar_carpetas(imap)\n",
    "        return False\n",
    "    return True\n",
    "\n",
    "# Ejemplo de uso\n",
    "imap = imaplib.IMAP4_SSL('imap.outlook.com')\n",
    "imap.login('facturas_gpf@outlook.com', 'lleibtocysmvsnko')\n",
    "\n",
    "# Listar carpetas\n",
    "listar_carpetas(imap)\n",
    "\n",
    "# Intentar seleccionar la carpeta\n",
    "if not seleccionar_carpeta(imap, \"/Sent\"):\n",
    "    print(\"No se pudo seleccionar la carpeta. Verifique el nombre de la carpeta y vuelva a intentarlo.\")\n",
    "else:\n",
    "    print(\"OK\")\n",
    "\n",
    "imap.logout()"
   ]
  },
  {
   "cell_type": "code",
   "execution_count": null,
   "metadata": {},
   "outputs": [],
   "source": [
    "def enviar_correo(asunto, cuerpo, destinatario, archivos_adjuntos=None, cc=None, print_func=print):\n",
    "    remitente = \"tu_correo@dominio.com\"\n",
    "    contrasena = \"tu_contrasena\"\n",
    "\n",
    "    # Crear el objeto del mensaje\n",
    "    mensaje = MIMEMultipart()\n",
    "    mensaje['From'] = remitente\n",
    "    mensaje['To'] = destinatario\n",
    "    mensaje['Subject'] = asunto\n",
    "\n",
    "    if cc:\n",
    "        mensaje['Cc'] = cc\n",
    "        destinatarios = [destinatario] + cc.split(',')\n",
    "    else:\n",
    "        destinatarios = [destinatario]\n",
    "\n",
    "    # Adjuntar el cuerpo del mensaje\n",
    "    mensaje.attach(MIMEText(cuerpo, 'plain'))\n",
    "\n",
    "    # Adjuntar archivos\n",
    "    if archivos_adjuntos:\n",
    "        for archivo in archivos_adjuntos:\n",
    "            adjunto = MIMEBase('application', 'octet-stream')\n",
    "            with open(archivo, 'rb') as f:\n",
    "                adjunto.set_payload(f.read())\n",
    "            encoders.encode_base64(adjunto)\n",
    "            adjunto.add_header('Content-Disposition', f\"attachment; filename= {os.path.basename(archivo)}\")\n",
    "            mensaje.attach(adjunto)\n",
    "\n",
    "    # Enviar el correo\n",
    "    try:\n",
    "        with smtplib.SMTP('smtp.dominio.com', 587) as servidor:\n",
    "            servidor.starttls()\n",
    "            servidor.login(remitente, contrasena)\n",
    "            servidor.sendmail(remitente, destinatarios, mensaje.as_string())\n",
    "            print_func(\"Correo enviado exitosamente\")\n",
    "    except Exception as e:\n",
    "        print_func(f\"Error al enviar el correo: {e}\")\n"
   ]
  }
 ],
 "metadata": {
  "kernelspec": {
   "display_name": "facturas",
   "language": "python",
   "name": "python3"
  },
  "language_info": {
   "codemirror_mode": {
    "name": "ipython",
    "version": 3
   },
   "file_extension": ".py",
   "mimetype": "text/x-python",
   "name": "python",
   "nbconvert_exporter": "python",
   "pygments_lexer": "ipython3",
   "version": "3.11.8"
  }
 },
 "nbformat": 4,
 "nbformat_minor": 2
}
