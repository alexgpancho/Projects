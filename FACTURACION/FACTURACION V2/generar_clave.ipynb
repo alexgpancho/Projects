{
 "cells": [
  {
   "cell_type": "code",
   "execution_count": 1,
   "metadata": {},
   "outputs": [
    {
     "data": {
      "text/plain": [
       "'wc3N1ZS'"
      ]
     },
     "execution_count": 1,
     "metadata": {},
     "output_type": "execute_result"
    }
   ],
   "source": [
    "import os\n",
    "import pickle\n",
    "import smartsheet\n",
    "import random\n",
    "import string\n",
    "from datetime import datetime\n",
    "from cryptography.fernet import Fernet\n",
    "\n",
    "def generar_clave(seed: str):\n",
    "    random.seed(seed)\n",
    "    caracteres = string.ascii_letters + string.digits\n",
    "    clave = random.sample(string.ascii_letters, 2) + random.sample(string.digits, 2) + random.choices(caracteres, k=3)\n",
    "    random.shuffle(clave)\n",
    "    clave_str = ''.join(clave)\n",
    "    return clave_str\n",
    "\n",
    "def generar_cadena_fecha():\n",
    "    # Obtener la fecha y hora actual\n",
    "    ahora = datetime.now()\n",
    "    # Formatear la cadena en el formato deseado\n",
    "    cadena = f\"INMO-{ahora.month:02d}-{ahora.year}\"\n",
    "    return cadena\n",
    "\n",
    "generar_clave(generar_cadena_fecha())"
   ]
  }
 ],
 "metadata": {
  "kernelspec": {
   "display_name": "test",
   "language": "python",
   "name": "python3"
  },
  "language_info": {
   "name": "python",
   "version": "3.11.8"
  }
 },
 "nbformat": 4,
 "nbformat_minor": 2
}
