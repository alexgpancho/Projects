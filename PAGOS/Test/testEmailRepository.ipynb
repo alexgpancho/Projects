{
 "cells": [
  {
   "cell_type": "code",
   "execution_count": null,
   "metadata": {},
   "outputs": [],
   "source": [
    "# Librerías\n",
    "# !pip install imaplib email"
   ]
  },
  {
   "cell_type": "code",
   "execution_count": 1,
   "metadata": {},
   "outputs": [
    {
     "data": {
      "text/plain": [
       "('BYE', [b'Microsoft Exchange Server IMAP4 server signing off.'])"
      ]
     },
     "execution_count": 1,
     "metadata": {},
     "output_type": "execute_result"
    }
   ],
   "source": [
    "import imaplib\n",
    "import email\n",
    "from email.header import decode_header\n",
    "import os\n",
    "from datetime import datetime, timedelta\n",
    "\n",
    "# Configuración de la cuenta\n",
    "IMAP_SERVER = \"imap-mail.outlook.com\"\n",
    "EMAIL_ACCOUNT = \"facturas_gpf@outlook.com\"\n",
    "APP_PASSWORD = \"lleibtocysmvsnko\"\n",
    "\n",
    "# Conectar al servidor IMAP\n",
    "mail = imaplib.IMAP4_SSL(IMAP_SERVER)\n",
    "\n",
    "# Iniciar sesión\n",
    "mail.login(EMAIL_ACCOUNT, APP_PASSWORD)\n",
    "\n",
    "# Seleccionar la bandeja de entrada\n",
    "mail.select(\"inbox\")\n",
    "\n",
    "# Obtener las fechas de hoy y ayer\n",
    "date_today = datetime.now().strftime(\"%d-%b-%Y\")\n",
    "date_yesterday = (datetime.now() - timedelta(1)).strftime(\"%d-%b-%Y\")\n",
    "\n",
    "# Buscar correos del día de hoy y del día de ayer\n",
    "status, messages_today = mail.search(None, f'(ON {date_today})')\n",
    "status, messages_yesterday = mail.search(None, f'(ON {date_yesterday})')\n",
    "\n",
    "# Combinar mensajes de hoy y ayer\n",
    "messages = messages_today[0].split() + messages_yesterday[0].split()\n",
    "\n",
    "for msg_num in messages:\n",
    "    # Obtener el mensaje\n",
    "    status, msg_data = mail.fetch(msg_num, \"(RFC822)\")\n",
    "    msg = email.message_from_bytes(msg_data[0][1])\n",
    "\n",
    "    # Obtener el asunto del mensaje\n",
    "    subject, encoding = decode_header(msg[\"Subject\"])[0]\n",
    "    if isinstance(subject, bytes):\n",
    "        subject = subject.decode(encoding if encoding else \"utf-8\")\n",
    "\n",
    "    # Crear una carpeta con el nombre del asunto\n",
    "    folder_name = subject.replace(\"/\", \"_\")  # Evitar problemas con nombres de carpeta\n",
    "    if not os.path.isdir(folder_name):\n",
    "        os.mkdir(folder_name)\n",
    "\n",
    "    # Iterar sobre las partes del mensaje\n",
    "    for part in msg.walk():\n",
    "        if part.get_content_maintype() == \"multipart\":\n",
    "            continue\n",
    "        if part.get(\"Content-Disposition\") is None:\n",
    "            continue\n",
    "\n",
    "        filename = part.get_filename()\n",
    "        if filename:\n",
    "            filepath = os.path.join(folder_name, filename)\n",
    "            with open(filepath, \"wb\") as f:\n",
    "                f.write(part.get_payload(decode=True))\n",
    "\n",
    "# Cerrar la conexión\n",
    "mail.close()\n",
    "mail.logout()\n",
    "\n"
   ]
  }
 ],
 "metadata": {
  "kernelspec": {
   "display_name": "test",
   "language": "python",
   "name": "python3"
  },
  "language_info": {
   "codemirror_mode": {
    "name": "ipython",
    "version": 3
   },
   "file_extension": ".py",
   "mimetype": "text/x-python",
   "name": "python",
   "nbconvert_exporter": "python",
   "pygments_lexer": "ipython3",
   "version": "3.11.8"
  }
 },
 "nbformat": 4,
 "nbformat_minor": 2
}
