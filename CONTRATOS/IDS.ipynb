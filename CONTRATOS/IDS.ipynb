{
 "cells": [
  {
   "cell_type": "code",
   "execution_count": 1,
   "metadata": {},
   "outputs": [
    {
     "name": "stdout",
     "output_type": "stream",
     "text": [
      "Column Name: Nombre del Proyecto, Column ID: 527835979796356\n",
      "Column Name: Fecha, Column ID: 5031435607166852\n",
      "Column Name: Solicitado por:, Column ID: 2779635793481604\n",
      "Column Name: Compañía, Column ID: 7283235420852100\n",
      "Column Name: Provincia, Column ID: 1653735886638980\n",
      "Column Name: Cantón, Column ID: 6157335514009476\n",
      "Column Name: Parroquia, Column ID: 3905535700324228\n",
      "Column Name: Dirección, Column ID: 8409135327694724\n",
      "Column Name: Ubicado en:, Column ID: 1090785933217668\n",
      "Column Name: Referencia, Column ID: 5594385560588164\n",
      "Column Name: Metraje, Column ID: 3342585746902916\n",
      "Column Name: Coordenadas geográficas, Column ID: 7846185374273412\n",
      "Column Name: Medidor de agua, Column ID: 2216685840060292\n",
      "Column Name: Forma de pago agua, Column ID: 6720285467430788\n",
      "Column Name: Medidor de Luz, Column ID: 4468485653745540\n",
      "Column Name: Nro de cuenta agua potable, Column ID: 8972085281116036\n",
      "Column Name: Forma de pago luz, Column ID: 17662584508292\n",
      "Column Name: Número de cuenta contrato o código único, Column ID: 4521262211878788\n",
      "Column Name: Persona:, Column ID: 2269462398193540\n",
      "Column Name: Pronombre Arrendador, Column ID: 7121570343636868\n",
      "Column Name: Nombre del arrendador, Column ID: 6773062025564036\n",
      "Column Name: Cedula o RUC Arrendador, Column ID: 3955193751490436\n",
      "Column Name: Estado civil, Column ID: 1143562491350916\n",
      "Column Name: Nombre de la empresa, Column ID: 5647162118721412\n",
      "Column Name: Email, Column ID: 3395362305036164\n",
      "Column Name: Telefono celular, Column ID: 7898961932406660\n",
      "Column Name: Dirección del domicilio/empresa, Column ID: 580612537929604\n",
      "Column Name: INFORMACIÓN ADMINISTRADOR LOCAL COMERCIAL PARA PAG, Column ID: 5084212165300100\n",
      "Column Name: Nombre del administrador, Column ID: 2832412351614852\n",
      "Column Name: Teléfono celular, Column ID: 7336011978985348\n",
      "Column Name: Correo electrónico, Column ID: 1706512444772228\n",
      "Column Name: Valor de arriendo, Column ID: 6210112072142724\n",
      "Column Name: Valor de garantía, Column ID: 3958312258457476\n",
      "Column Name: Fecha de inicio de contrato, Column ID: 8461911885827972\n",
      "Column Name: Fecha de fin de contrato, Column ID: 299137561218948\n",
      "Column Name: Porcentaje de incremento anual, Column ID: 4802737188589444\n",
      "Column Name: Año para aplicar incremento, Column ID: 4474124958388100\n",
      "Column Name: Valor de alicuota, Column ID: 2550937374904196\n",
      "Column Name: Valor de concesión, Column ID: 7054537002274692\n",
      "Column Name: Nombre de quien factura, Column ID: 1425037468061572\n",
      "Column Name: Banco Beneficiario, Column ID: 5420177937354628\n",
      "Column Name: Tipo de Cuenta, Column ID: 6229487214874500\n",
      "Column Name: Cta Bancaria, Column ID: 4575894741143428\n",
      "Column Name: RUC, Column ID: 5928637095432068\n",
      "Column Name: Observaciones adicionales a la negociación, Column ID: 3676837281746820\n",
      "Column Name: Nombre Franquiciado, Column ID: 8180436909117316\n",
      "Column Name: Cédula / RUC Franquiciado, Column ID: 862087514640260\n",
      "Column Name: Estado civil franquiciado, Column ID: 5365687142010756\n",
      "Column Name: Fecha de inicio contrato de comisión, Column ID: 3113887328325508\n",
      "Column Name: Fecha fin de contrato de comisión, Column ID: 7617486955696004\n",
      "Column Name: En proceso, Column ID: 1987987421482884\n",
      "Column Name: Fecha inicio de proceso, Column ID: 6491587048853380\n",
      "Column Name: Fecha de respuesta Camila, Column ID: 4239787235168132\n",
      "Column Name: SUBARRIENDO, Column ID: 8743386862538628\n",
      "Column Name: Porcentaje de retención:, Column ID: 158400072863620\n",
      "Column Name: Jurisdicción, Column ID: 4661999700234116\n",
      "Column Name: Arrendador permite el subarriendo:, Column ID: 2410199886548868\n",
      "Column Name: Detalle valores compartidos, Column ID: 6913799513919364\n",
      "Column Name: Uso del medidor provisional, Column ID: 1284299979706244\n",
      "Column Name: Detalle valores compartidos medidor de agua, Column ID: 5787899607076740\n",
      "Column Name: Uso del medidor provisional de agua, Column ID: 3536099793391492\n",
      "Column Name: Otras retenciones, Column ID: 8039699420761988\n",
      "Column Name: Modelo PDV Construcción, Column ID: 721350026284932\n",
      "Column Name: Valor de inversión:, Column ID: 5224949653655428\n",
      "Column Name: DURACIÓN DEL CONTRATO, Column ID: 2973149839970180\n",
      "Column Name: SE DEBE ELEVAR A ESCRITURA PÚBLICA, Column ID: 7476749467340676\n",
      "Column Name: Anticipos, Column ID: 1847249933127556\n",
      "Column Name: Representante, Column ID: 4580843801759620\n",
      "Column Name: Pronombre Representante, Column ID: 1844395583426436\n",
      "Column Name: Nombre Representante, Column ID: 2126845517713284\n",
      "Column Name: Cedula o RUC Representante, Column ID: 7984675781037956\n",
      "Column Name: Cargo o Figura del Representante, Column ID: 1071365894655876\n"
     ]
    },
    {
     "data": {
      "text/plain": [
       "\"with open('columns_info.csv', 'w', newline='') as csvfile:\\n    fieldnames = ['column_id', 'column_name']\\n    writer = csv.DictWriter(csvfile, fieldnames=fieldnames)\\n\\n    writer.writeheader()\\n    for col in columns_info:\\n        writer.writerow(col)\\n\""
      ]
     },
     "execution_count": 1,
     "metadata": {},
     "output_type": "execute_result"
    }
   ],
   "source": [
    "#Hoja Pruebas Contratos\n",
    "\n",
    "import smartsheet\n",
    "# Conexión a Smartsheet\n",
    "ACCESS_TOKEN = 'Jg2fmXeRVSlecIiTohGY2UAJr4YKycUs7cEfX'\n",
    "SHEET_ID = '2152478669754244'\n",
    "\n",
    "ss_client = smartsheet.Smartsheet(ACCESS_TOKEN)\n",
    "sheet = ss_client.Sheets.get_sheet(SHEET_ID)\n",
    "\n",
    "# Extraer nombres de columnas y sus IDs\n",
    "columns_info = []\n",
    "\n",
    "for column in sheet.columns:\n",
    "    columns_info.append({'column_id': column.id, 'column_name': column.title})\n",
    "\n",
    "# Imprimir nombres de columnas y sus IDs\n",
    "for col in columns_info:\n",
    "    print(f\"Column Name: {col['column_name']}, Column ID: {col['column_id']}\")\n",
    "\n",
    "# Opcional: Guardar la información en un archivo CSV\n",
    "import csv\n",
    "\n",
    "\"\"\"with open('columns_info.csv', 'w', newline='') as csvfile:\n",
    "    fieldnames = ['column_id', 'column_name']\n",
    "    writer = csv.DictWriter(csvfile, fieldnames=fieldnames)\n",
    "\n",
    "    writer.writeheader()\n",
    "    for col in columns_info:\n",
    "        writer.writerow(col)\n",
    "\"\"\""
   ]
  },
  {
   "cell_type": "code",
   "execution_count": 3,
   "metadata": {},
   "outputs": [
    {
     "name": "stdout",
     "output_type": "stream",
     "text": [
      "Column Name: ID, Column ID: 7379454994370436\n",
      "Column Name: FECHA, Column ID: 1749955460157316\n",
      "Column Name: CLAVE, Column ID: 6253555087527812\n",
      "Column Name: CORREOS ENVIO DE CLAVE, Column ID: 8066640903360388\n"
     ]
    },
    {
     "data": {
      "text/plain": [
       "\"with open('columns_info.csv', 'w', newline='') as csvfile:\\n    fieldnames = ['column_id', 'column_name']\\n    writer = csv.DictWriter(csvfile, fieldnames=fieldnames)\\n\\n    writer.writeheader()\\n    for col in columns_info:\\n        writer.writerow(col)\\n\""
      ]
     },
     "execution_count": 3,
     "metadata": {},
     "output_type": "execute_result"
    }
   ],
   "source": [
    "#Hoja Prueba Seguridad Facturas\n",
    "\n",
    "import smartsheet\n",
    "# Conexión a Smartsheet\n",
    "ACCESS_TOKEN = 'Jg2fmXeRVSlecIiTohGY2UAJr4YKycUs7cEfX'\n",
    "SHEET_ID = '5787690771369860'\n",
    "\n",
    "ss_client = smartsheet.Smartsheet(ACCESS_TOKEN)\n",
    "sheet = ss_client.Sheets.get_sheet(SHEET_ID)\n",
    "\n",
    "# Extraer nombres de columnas y sus IDs\n",
    "columns_info = []\n",
    "\n",
    "for column in sheet.columns:\n",
    "    columns_info.append({'column_id': column.id, 'column_name': column.title})\n",
    "\n",
    "# Imprimir nombres de columnas y sus IDs\n",
    "for col in columns_info:\n",
    "    print(f\"Column Name: {col['column_name']}, Column ID: {col['column_id']}\")\n",
    "\n",
    "# Opcional: Guardar la información en un archivo CSV\n",
    "#import csv\n",
    "\n",
    "\"\"\"with open('columns_info.csv', 'w', newline='') as csvfile:\n",
    "    fieldnames = ['column_id', 'column_name']\n",
    "    writer = csv.DictWriter(csvfile, fieldnames=fieldnames)\n",
    "\n",
    "    writer.writeheader()\n",
    "    for col in columns_info:\n",
    "        writer.writerow(col)\n",
    "\"\"\""
   ]
  }
 ],
 "metadata": {
  "kernelspec": {
   "display_name": "contratos",
   "language": "python",
   "name": "python3"
  },
  "language_info": {
   "codemirror_mode": {
    "name": "ipython",
    "version": 3
   },
   "file_extension": ".py",
   "mimetype": "text/x-python",
   "name": "python",
   "nbconvert_exporter": "python",
   "pygments_lexer": "ipython3",
   "version": "3.11.8"
  }
 },
 "nbformat": 4,
 "nbformat_minor": 2
}
